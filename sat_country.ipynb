{
 "cells": [
  {
   "cell_type": "markdown",
   "metadata": {},
   "source": [
    "# SQLAlchemy Joins"
   ]
  },
  {
   "cell_type": "markdown",
   "metadata": {},
   "source": [
    "## Setup"
   ]
  },
  {
   "cell_type": "code",
   "execution_count": 59,
   "metadata": {},
   "outputs": [],
   "source": [
    "# Python SQL toolkit and Object Relational Mapper\n",
    "import pandas as pd\n",
    "from sqlalchemy import create_engine\n",
    "from splinter import Browser\n",
    "from bs4 import BeautifulSoup as bs\n",
    "import time"
   ]
  },
  {
   "cell_type": "code",
   "execution_count": 60,
   "metadata": {},
   "outputs": [],
   "source": [
    "rds_connection_string = \"postgres:admin@localhost:5432/satellite\"\n",
    "#<insert password>@localhost:5432/customer_db\"\n",
    "engine = create_engine(f'postgresql://{rds_connection_string}')"
   ]
  },
  {
   "cell_type": "code",
   "execution_count": 61,
   "metadata": {},
   "outputs": [
    {
     "data": {
      "text/html": [
       "<div>\n",
       "<style scoped>\n",
       "    .dataframe tbody tr th:only-of-type {\n",
       "        vertical-align: middle;\n",
       "    }\n",
       "\n",
       "    .dataframe tbody tr th {\n",
       "        vertical-align: top;\n",
       "    }\n",
       "\n",
       "    .dataframe thead th {\n",
       "        text-align: right;\n",
       "    }\n",
       "</style>\n",
       "<table border=\"1\" class=\"dataframe\">\n",
       "  <thead>\n",
       "    <tr style=\"text-align: right;\">\n",
       "      <th></th>\n",
       "      <th>country</th>\n",
       "      <th>country_code</th>\n",
       "      <th>number_of_satellites</th>\n",
       "    </tr>\n",
       "  </thead>\n",
       "  <tbody>\n",
       "    <tr>\n",
       "      <th>0</th>\n",
       "      <td>COMMONWEALTH OF INDEPENDENT STATES (FORMER USSR)</td>\n",
       "      <td>CIS</td>\n",
       "      <td>1532</td>\n",
       "    </tr>\n",
       "    <tr>\n",
       "      <th>1</th>\n",
       "      <td>UNITED STATES</td>\n",
       "      <td>US</td>\n",
       "      <td>2739</td>\n",
       "    </tr>\n",
       "  </tbody>\n",
       "</table>\n",
       "</div>"
      ],
      "text/plain": [
       "                                            country country_code  \\\n",
       "0  COMMONWEALTH OF INDEPENDENT STATES (FORMER USSR)          CIS   \n",
       "1                                     UNITED STATES           US   \n",
       "\n",
       "   number_of_satellites  \n",
       "0                  1532  \n",
       "1                  2739  "
      ]
     },
     "execution_count": 61,
     "metadata": {},
     "output_type": "execute_result"
    }
   ],
   "source": [
    "pd.read_sql_query(\"select * from country where country_code in ('US','CIS')\", con=engine).head()"
   ]
  },
  {
   "cell_type": "code",
   "execution_count": 62,
   "metadata": {},
   "outputs": [
    {
     "data": {
      "text/plain": [
       "['country', 'satellite_category', 'country_satellite']"
      ]
     },
     "execution_count": 62,
     "metadata": {},
     "output_type": "execute_result"
    }
   ],
   "source": [
    "engine.table_names()"
   ]
  },
  {
   "cell_type": "code",
   "execution_count": 63,
   "metadata": {},
   "outputs": [],
   "source": [
    "#data_cnt = pd.read_sql_query('select * from country', con=engine).head()\n",
    "data_cnt = engine.execute(\"select * from country where country_code in ('CIS', 'US')\", con=engine)"
   ]
  },
  {
   "cell_type": "code",
   "execution_count": 64,
   "metadata": {},
   "outputs": [],
   "source": [
    "executable_path = {'executable_path': 'chromedriver.exe'}\n",
    "browser = Browser('chrome', **executable_path, headless=False)"
   ]
  },
  {
   "cell_type": "code",
   "execution_count": 65,
   "metadata": {},
   "outputs": [],
   "source": [
    "\n",
    "datetime='2020-10-23'\n",
    "data_symbol = {\n",
    "    \"country_code\": \"\",\n",
    "    \"satellite_name\": \"\", \n",
    "    \"satellite_id\": \"\", \n",
    "    \"sat_intl_code\": \"\", \n",
    "    \"sat_launch_date\": \"\", \n",
    "    \"sat_period\": \"\"\n",
    "\n",
    "}\n",
    "offsetVal=0\n",
    "\n",
    "\n",
    "\n",
    "\n",
    "\n"
   ]
  },
  {
   "cell_type": "code",
   "execution_count": 66,
   "metadata": {},
   "outputs": [],
   "source": [
    "\n",
    "\n",
    "for record in data_cnt: \n",
    "    time.sleep(1)\n",
    "    url = \"https://www.n2yo.com/satellites/?c=\"+record['country_code']+\"&t=country\"\n",
    "    browser.visit(url)\n",
    "    time.sleep(200)\n",
    "    html = browser.html \n",
    "    soup = bs(html, \"html.parser\") \n",
    "    data_array = [] \n",
    "    avg_temps = soup.find(\"table\", class_=\"footable\")     \n",
    "    paragraphs = avg_temps.find_all('tr') \n",
    "    for para in paragraphs: \n",
    "        data_symbol={}\n",
    "        try:\n",
    "            data_symbol[\"country_code\"] = record['country_code'] \n",
    "            data_symbol[\"satellite_name\"] = para.find_all('td')[0].text \n",
    "            data_symbol[\"satellite_id\"] = para.find_all('td')[1].text \n",
    "            data_symbol[\"sat_intl_code\"] = para.find_all('td')[2].text\n",
    "            tot_vol_str_data= para.find_all('td')[3].text            \n",
    "            if (tot_vol_str_data.find('-0001') != -1):\n",
    "                tot_vol_str_data=str(tot_vol_str_data).replace('-0001','2020')\n",
    "            else:\n",
    "                data_symbol[\"sat_launch_date\"] = para.find_all('td')[3].text            \n",
    "            if (para.find_all('td')[4].text != \"-\"):\n",
    "                data_symbol[\"sat_period\"] = para.find_all('td')[4].text\n",
    "            else:\n",
    "                data_symbol[\"sat_period\"] = 0          \n",
    "            data_array.append(data_symbol)\n",
    "        except:\n",
    "            pass\n",
    "    data_array_df = pd.DataFrame(data_array)\n",
    "    data_array_df.to_sql(name='country_satellite', con=engine, if_exists='append', index=False)\n",
    "\n",
    "\n"
   ]
  },
  {
   "cell_type": "code",
   "execution_count": 67,
   "metadata": {},
   "outputs": [
    {
     "data": {
      "text/html": [
       "<div>\n",
       "<style scoped>\n",
       "    .dataframe tbody tr th:only-of-type {\n",
       "        vertical-align: middle;\n",
       "    }\n",
       "\n",
       "    .dataframe tbody tr th {\n",
       "        vertical-align: top;\n",
       "    }\n",
       "\n",
       "    .dataframe thead th {\n",
       "        text-align: right;\n",
       "    }\n",
       "</style>\n",
       "<table border=\"1\" class=\"dataframe\">\n",
       "  <thead>\n",
       "    <tr style=\"text-align: right;\">\n",
       "      <th></th>\n",
       "      <th>country_code</th>\n",
       "      <th>satellite_name</th>\n",
       "      <th>satellite_id</th>\n",
       "      <th>sat_intl_code</th>\n",
       "      <th>sat_launch_date</th>\n",
       "      <th>sat_period</th>\n",
       "    </tr>\n",
       "  </thead>\n",
       "  <tbody>\n",
       "    <tr>\n",
       "      <th>0</th>\n",
       "      <td>ALG</td>\n",
       "      <td>ALCOMSAT 1</td>\n",
       "      <td>43039</td>\n",
       "      <td>2017-078A</td>\n",
       "      <td>2017-12-10</td>\n",
       "      <td>1436.1</td>\n",
       "    </tr>\n",
       "    <tr>\n",
       "      <th>1</th>\n",
       "      <td>ALG</td>\n",
       "      <td>ALSAT 1N</td>\n",
       "      <td>41789</td>\n",
       "      <td>2016-059G</td>\n",
       "      <td>2016-09-26</td>\n",
       "      <td>98.3</td>\n",
       "    </tr>\n",
       "    <tr>\n",
       "      <th>2</th>\n",
       "      <td>ALG</td>\n",
       "      <td>ALSAT 2B</td>\n",
       "      <td>41786</td>\n",
       "      <td>2016-059D</td>\n",
       "      <td>2016-09-26</td>\n",
       "      <td>98.2</td>\n",
       "    </tr>\n",
       "    <tr>\n",
       "      <th>3</th>\n",
       "      <td>ALG</td>\n",
       "      <td>ALSAT 1B</td>\n",
       "      <td>41785</td>\n",
       "      <td>2016-059C</td>\n",
       "      <td>2016-09-26</td>\n",
       "      <td>98.4</td>\n",
       "    </tr>\n",
       "    <tr>\n",
       "      <th>4</th>\n",
       "      <td>ALG</td>\n",
       "      <td>ALSAT 2A</td>\n",
       "      <td>36798</td>\n",
       "      <td>2010-035D</td>\n",
       "      <td>2010-07-12</td>\n",
       "      <td>98.2</td>\n",
       "    </tr>\n",
       "  </tbody>\n",
       "</table>\n",
       "</div>"
      ],
      "text/plain": [
       "  country_code satellite_name  satellite_id sat_intl_code sat_launch_date  \\\n",
       "0          ALG     ALCOMSAT 1         43039     2017-078A      2017-12-10   \n",
       "1          ALG       ALSAT 1N         41789     2016-059G      2016-09-26   \n",
       "2          ALG       ALSAT 2B         41786     2016-059D      2016-09-26   \n",
       "3          ALG       ALSAT 1B         41785     2016-059C      2016-09-26   \n",
       "4          ALG       ALSAT 2A         36798     2010-035D      2010-07-12   \n",
       "\n",
       "   sat_period  \n",
       "0      1436.1  \n",
       "1        98.3  \n",
       "2        98.2  \n",
       "3        98.4  \n",
       "4        98.2  "
      ]
     },
     "execution_count": 67,
     "metadata": {},
     "output_type": "execute_result"
    }
   ],
   "source": [
    "pd.read_sql_query('select * from country_satellite', con=engine).head()"
   ]
  },
  {
   "cell_type": "code",
   "execution_count": 49,
   "metadata": {},
   "outputs": [
    {
     "ename": "AttributeError",
     "evalue": "'Engine' object has no attribute 'close'",
     "output_type": "error",
     "traceback": [
      "\u001b[1;31m---------------------------------------------------------------------------\u001b[0m",
      "\u001b[1;31mAttributeError\u001b[0m                            Traceback (most recent call last)",
      "\u001b[1;32m<ipython-input-49-a94d5c2d3822>\u001b[0m in \u001b[0;36m<module>\u001b[1;34m\u001b[0m\n\u001b[1;32m----> 1\u001b[1;33m \u001b[0mengine\u001b[0m\u001b[1;33m.\u001b[0m\u001b[0mclose\u001b[0m\u001b[1;33m(\u001b[0m\u001b[1;33m)\u001b[0m\u001b[1;33m\u001b[0m\u001b[1;33m\u001b[0m\u001b[0m\n\u001b[0m",
      "\u001b[1;31mAttributeError\u001b[0m: 'Engine' object has no attribute 'close'"
     ]
    }
   ],
   "source": [
    "engine.close()"
   ]
  },
  {
   "cell_type": "code",
   "execution_count": null,
   "metadata": {},
   "outputs": [],
   "source": []
  }
 ],
 "metadata": {
  "kernelspec": {
   "display_name": "Python 3",
   "language": "python",
   "name": "python3"
  },
  "language_info": {
   "codemirror_mode": {
    "name": "ipython",
    "version": 3
   },
   "file_extension": ".py",
   "mimetype": "text/x-python",
   "name": "python",
   "nbconvert_exporter": "python",
   "pygments_lexer": "ipython3",
   "version": "3.8.3"
  },
  "varInspector": {
   "cols": {
    "lenName": 16,
    "lenType": 16,
    "lenVar": 40
   },
   "kernels_config": {
    "python": {
     "delete_cmd_postfix": "",
     "delete_cmd_prefix": "del ",
     "library": "var_list.py",
     "varRefreshCmd": "print(var_dic_list())"
    },
    "r": {
     "delete_cmd_postfix": ") ",
     "delete_cmd_prefix": "rm(",
     "library": "var_list.r",
     "varRefreshCmd": "cat(var_dic_list()) "
    }
   },
   "types_to_exclude": [
    "module",
    "function",
    "builtin_function_or_method",
    "instance",
    "_Feature"
   ],
   "window_display": false
  }
 },
 "nbformat": 4,
 "nbformat_minor": 2
}
